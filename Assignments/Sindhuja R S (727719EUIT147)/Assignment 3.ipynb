{
  "nbformat": 4,
  "nbformat_minor": 0,
  "metadata": {
    "colab": {
      "provenance": []
    },
    "kernelspec": {
      "name": "python3",
      "display_name": "Python 3"
    },
    "language_info": {
      "name": "python"
    }
  },
  "cells": [
    {
      "cell_type": "code",
      "execution_count": null,
      "metadata": {
        "id": "5ilyoRFnDTj3"
      },
      "outputs": [],
      "source": []
    },
    {
      "cell_type": "markdown",
      "source": [
        "Assignment 3 (727719EUIT147)\n",
        "\n",
        "Answer the questions or complete the tasks outlined in bold below, use the specific method described if applicable.\n",
        "\n",
        "** What is 7 to the power of 4?**"
      ],
      "metadata": {
        "id": "cvxSvGdTDYnA"
      }
    },
    {
      "cell_type": "code",
      "source": [
        "7**4"
      ],
      "metadata": {
        "colab": {
          "base_uri": "https://localhost:8080/"
        },
        "id": "Fi7lkzP0Dfqx",
        "outputId": "830754bf-cd89-48fb-cfa9-36fbb471dad5"
      },
      "execution_count": 1,
      "outputs": [
        {
          "output_type": "execute_result",
          "data": {
            "text/plain": [
              "2401"
            ]
          },
          "metadata": {},
          "execution_count": 1
        }
      ]
    },
    {
      "cell_type": "markdown",
      "source": [
        "** Split this string:**\n",
        "\n",
        "s = \"Hi there Sam!\""
      ],
      "metadata": {
        "id": "nXAEnLD5Dw4Y"
      }
    },
    {
      "cell_type": "code",
      "source": [
        "s = \"Hi there Sam!\"\n",
        "s.split()"
      ],
      "metadata": {
        "colab": {
          "base_uri": "https://localhost:8080/"
        },
        "id": "_j6b3mTGD0pn",
        "outputId": "62d60891-c02c-4421-c026-ceef2eed69b9"
      },
      "execution_count": 2,
      "outputs": [
        {
          "output_type": "execute_result",
          "data": {
            "text/plain": [
              "['Hi', 'there', 'Sam!']"
            ]
          },
          "metadata": {},
          "execution_count": 2
        }
      ]
    },
    {
      "cell_type": "markdown",
      "source": [
        "* Given the variables:**\n",
        "\n",
        "planet = \"Earth\" diameter = 12742\n",
        "\n",
        "** Use .format() to print the following string: **\n",
        "\n",
        "The diameter of Earth is 12742 kilometers."
      ],
      "metadata": {
        "id": "JKruoXOLD8yF"
      }
    },
    {
      "cell_type": "code",
      "source": [
        "planet = \"Earth\"\n",
        "diameter = 12742\n",
        "print(\"The diameter of {} is {} kilometers.\".format(planet,diameter))"
      ],
      "metadata": {
        "colab": {
          "base_uri": "https://localhost:8080/"
        },
        "id": "NxqIKPm6EBPS",
        "outputId": "64388a38-e8c4-4dbf-abad-bc8bbdfb7962"
      },
      "execution_count": 3,
      "outputs": [
        {
          "output_type": "stream",
          "name": "stdout",
          "text": [
            "The diameter of Earth is 12742 kilometers.\n"
          ]
        }
      ]
    },
    {
      "cell_type": "markdown",
      "source": [
        "** Given this nested list, use indexing to grab the word \"hello\" **\n",
        "\n",
        "** Given this nested list, use indexing to grab the word \"hello\" **"
      ],
      "metadata": {
        "id": "GJtVkhEFEJGs"
      }
    },
    {
      "cell_type": "code",
      "source": [
        "lst = [1,2,[3,4],[5,[100,200,['hello']],23,11],1,7]\n",
        "lst[3][1][2][0]"
      ],
      "metadata": {
        "colab": {
          "base_uri": "https://localhost:8080/",
          "height": 35
        },
        "id": "ZDHVrRzBEJ-2",
        "outputId": "04130a59-fa3f-4a97-e3de-beaa85b6efa3"
      },
      "execution_count": 4,
      "outputs": [
        {
          "output_type": "execute_result",
          "data": {
            "text/plain": [
              "'hello'"
            ],
            "application/vnd.google.colaboratory.intrinsic+json": {
              "type": "string"
            }
          },
          "metadata": {},
          "execution_count": 4
        }
      ]
    },
    {
      "cell_type": "markdown",
      "source": [
        "** Given this nest dictionary grab the word \"hello\". Be prepared, this will be annoying/tricky **"
      ],
      "metadata": {
        "id": "lbSCP6d5EQnR"
      }
    },
    {
      "cell_type": "code",
      "source": [
        "d = {'k1':[1,2,3,{'tricky':['oh','man','inception',{'target':[1,2,3,'hello']}]}]}\n",
        "d['k1'][3]['tricky'][3]['target'][3]"
      ],
      "metadata": {
        "colab": {
          "base_uri": "https://localhost:8080/",
          "height": 35
        },
        "id": "LuAcTKIFERyu",
        "outputId": "7a246537-5b5c-475c-884f-e5af40e21fae"
      },
      "execution_count": 5,
      "outputs": [
        {
          "output_type": "execute_result",
          "data": {
            "text/plain": [
              "'hello'"
            ],
            "application/vnd.google.colaboratory.intrinsic+json": {
              "type": "string"
            }
          },
          "metadata": {},
          "execution_count": 5
        }
      ]
    },
    {
      "cell_type": "markdown",
      "source": [
        "** What is the main difference between a tuple and a list? **\n",
        "\n",
        "Tuple is immutable\n",
        "Tuples operations are safe.\n",
        "Tuples consumes less memory. \n",
        " \n",
        "** Create a function that grabs the email website domain from a string in the form: **\n",
        "\n",
        "user@domain.com"
      ],
      "metadata": {
        "id": "5LrvCoILEYiX"
      }
    },
    {
      "cell_type": "code",
      "source": [
        "def domainGet(email):\n",
        "    print(\"Your domain is: \" + email.split('@')[-1])\n",
        "\n",
        "email = input(\"Please enter your email: >\")\n",
        "domainGet(email)"
      ],
      "metadata": {
        "colab": {
          "base_uri": "https://localhost:8080/"
        },
        "id": "j9jwieikEcit",
        "outputId": "6f417e8d-96a1-48b9-a3c1-eb897a3778c3"
      },
      "execution_count": 6,
      "outputs": [
        {
          "output_type": "stream",
          "name": "stdout",
          "text": [
            "Please enter your email: >user@domain.com\n",
            "Your domain is: domain.com\n"
          ]
        }
      ]
    },
    {
      "cell_type": "markdown",
      "source": [
        "\n",
        "** Create a basic function that returns True if the word 'dog' is contained in the input string. Don't worry about edge cases like a punctuation being attached to the word dog, but do account for capitalization. **"
      ],
      "metadata": {
        "id": "JHZ9yc5PEyfr"
      }
    },
    {
      "cell_type": "code",
      "source": [
        "def findDog(st):\n",
        "    return 'dog' in st.lower().split()\n",
        "findDog('Is there a dog here?')"
      ],
      "metadata": {
        "colab": {
          "base_uri": "https://localhost:8080/"
        },
        "id": "nrA4wLXjEz79",
        "outputId": "0d0db604-8f37-45ce-d952-2669a4ab9067"
      },
      "execution_count": 7,
      "outputs": [
        {
          "output_type": "execute_result",
          "data": {
            "text/plain": [
              "True"
            ]
          },
          "metadata": {},
          "execution_count": 7
        }
      ]
    },
    {
      "cell_type": "markdown",
      "source": [
        "** Create a function that counts the number of times the word \"dog\" occurs in a string. Again ignore edge cases. **"
      ],
      "metadata": {
        "id": "MV_C1Gi0FCb6"
      }
    },
    {
      "cell_type": "code",
      "source": [
        "def countDog(st):\n",
        "    count = 0\n",
        "    for word in st.lower().split():\n",
        "        if word == 'dog':\n",
        "            count += 1\n",
        "    return count\n",
        "countDog('This dog runs faster than the other dog dude!')\n"
      ],
      "metadata": {
        "colab": {
          "base_uri": "https://localhost:8080/"
        },
        "id": "KqPUCYe4FDV4",
        "outputId": "fd22629d-db97-41c5-e1bf-e51dbea65279"
      },
      "execution_count": 9,
      "outputs": [
        {
          "output_type": "execute_result",
          "data": {
            "text/plain": [
              "2"
            ]
          },
          "metadata": {},
          "execution_count": 9
        }
      ]
    },
    {
      "cell_type": "markdown",
      "source": [
        "Problem You are driving a little too fast, and a police officer stops you. Write a function to return one of 3 possible results: \"No ticket\", \"Small ticket\", or \"Big Ticket\". If your speed is 60 or less, the result is \"No Ticket\". If speed is between 61 and 80 inclusive, the result is \"Small Ticket\". If speed is 81 or more, the result is \"Big Ticket\". Unless it is your birthday (encoded as a boolean value in the parameters of the function) -- on your birthday, your speed can be 5 higher in all cases."
      ],
      "metadata": {
        "id": "WFfhBR5TFK7p"
      }
    },
    {
      "cell_type": "code",
      "source": [
        "def caught_speeding(speed, is_birthday):\n",
        "    \n",
        "    if is_birthday:\n",
        "        speeding = speed - 5\n",
        "    else:\n",
        "        speeding = speed\n",
        "    \n",
        "    if speeding > 80:\n",
        "        return 'Big Ticket'\n",
        "    elif speeding > 60:\n",
        "        return 'Small Ticket'\n",
        "    else:\n",
        "        return 'No Ticket'\n",
        "caught_speeding(81,False)"
      ],
      "metadata": {
        "colab": {
          "base_uri": "https://localhost:8080/",
          "height": 35
        },
        "id": "2765CVUQFN3l",
        "outputId": "643b5f39-e49c-4615-d508-78402bf916f1"
      },
      "execution_count": 10,
      "outputs": [
        {
          "output_type": "execute_result",
          "data": {
            "text/plain": [
              "'Big Ticket'"
            ],
            "application/vnd.google.colaboratory.intrinsic+json": {
              "type": "string"
            }
          },
          "metadata": {},
          "execution_count": 10
        }
      ]
    },
    {
      "cell_type": "code",
      "source": [
        "caught_speeding(70,True)"
      ],
      "metadata": {
        "colab": {
          "base_uri": "https://localhost:8080/",
          "height": 35
        },
        "id": "yDE6RPdqFTYu",
        "outputId": "be1a48dd-11ff-4db7-a363-e2e54cf6d18f"
      },
      "execution_count": 11,
      "outputs": [
        {
          "output_type": "execute_result",
          "data": {
            "text/plain": [
              "'Small Ticket'"
            ],
            "application/vnd.google.colaboratory.intrinsic+json": {
              "type": "string"
            }
          },
          "metadata": {},
          "execution_count": 11
        }
      ]
    },
    {
      "cell_type": "markdown",
      "source": [
        "Create an employee list with basic salary values(at least 5 values for 5 employees) and using a for loop retreive each employee salary and calculate total salary expenditure."
      ],
      "metadata": {
        "id": "der4tk_GFXAV"
      }
    },
    {
      "cell_type": "code",
      "source": [
        "employee = [30000,23000,25000,40000,33000]\n",
        "tot = 0\n",
        "for i in employee:\n",
        "    tot = tot + i\n",
        "print(\"Total Salary :\",tot)"
      ],
      "metadata": {
        "colab": {
          "base_uri": "https://localhost:8080/"
        },
        "id": "G9PnTAguFX5Q",
        "outputId": "053ec178-08d3-4a7d-8f1f-6033999a48ca"
      },
      "execution_count": 12,
      "outputs": [
        {
          "output_type": "stream",
          "name": "stdout",
          "text": [
            "Total Salary : 151000\n"
          ]
        }
      ]
    },
    {
      "cell_type": "markdown",
      "source": [
        "Create two dictionaries in Python:\n",
        "\n",
        "First one to contain fields as Empid, Empname, Basicpay\n",
        "\n",
        "Second dictionary to contain fields as DeptName, DeptId.\n",
        "\n",
        "Combine both dictionaries."
      ],
      "metadata": {
        "id": "cv5UHwsvFdD2"
      }
    },
    {
      "cell_type": "code",
      "source": [
        "dict1 = {\n",
        "    \"EmpId\":[1000,1001,1002,1003],\n",
        "    \"EmpName\":[\"Sindhuja R.S\",\"vinothini.P\",\"Keerthi.S\",\"Shrimathi.M\"],\n",
        "    \"Basicpay\":[45000,42000,43000,44000]\n",
        "}\n",
        "\n",
        "dict2 = {\n",
        "    \"DeptName\":[\"IT\",\"CSE\",\"MECH\",\"IT\"],\n",
        "    \"DeptId\":[\"19IT\",\"19CSE\",\"19MECH\",\"19IT\"]\n",
        "}\n",
        "\n",
        "dict1.update(dict2)\n",
        "dict3 = dict1.copy()\n",
        "dict3"
      ],
      "metadata": {
        "colab": {
          "base_uri": "https://localhost:8080/"
        },
        "id": "8WW5Q_bLFfPh",
        "outputId": "d85d3875-138b-49a4-c8d4-3443644645d0"
      },
      "execution_count": 15,
      "outputs": [
        {
          "output_type": "execute_result",
          "data": {
            "text/plain": [
              "{'EmpId': [1000, 1001, 1002, 1003],\n",
              " 'EmpName': ['Sindhuja R.S', 'vinothini.P', 'Keerthi.S', 'Shrimathi.M'],\n",
              " 'Basicpay': [45000, 42000, 43000, 44000],\n",
              " 'DeptName': ['IT', 'CSE', 'MECH', 'IT'],\n",
              " 'DeptId': ['19IT', '19CSE', '19MECH', '19IT']}"
            ]
          },
          "metadata": {},
          "execution_count": 15
        }
      ]
    }
  ]
}