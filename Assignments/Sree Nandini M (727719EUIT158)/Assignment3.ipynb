{
  "nbformat": 4,
  "nbformat_minor": 0,
  "metadata": {
    "colab": {
      "provenance": [],
      "collapsed_sections": []
    },
    "kernelspec": {
      "name": "python3",
      "display_name": "Python 3"
    },
    "language_info": {
      "name": "python"
    }
  },
  "cells": [
    {
      "cell_type": "markdown",
      "source": [
        "Assignment 3 (727719EUIT158)\n",
        "\n",
        "Answer the questions or complete the tasks outlined in bold below, use the specific method described if applicable.\n",
        "\n",
        "** What is 7 to the power of 4?**"
      ],
      "metadata": {
        "id": "hr7saPDRtCLu"
      }
    },
    {
      "cell_type": "code",
      "source": [
        "7**4"
      ],
      "metadata": {
        "colab": {
          "base_uri": "https://localhost:8080/"
        },
        "id": "1BA0XTxDtV6o",
        "outputId": "842b289f-b808-4c1f-e8e3-df7bdefbbdf9"
      },
      "execution_count": 1,
      "outputs": [
        {
          "output_type": "execute_result",
          "data": {
            "text/plain": [
              "2401"
            ]
          },
          "metadata": {},
          "execution_count": 1
        }
      ]
    },
    {
      "cell_type": "markdown",
      "source": [
        "** Split this string:**\n",
        "\n",
        "s = \"Hi there Sam!\""
      ],
      "metadata": {
        "id": "d_7vChbQtihp"
      }
    },
    {
      "cell_type": "code",
      "source": [
        "s = \"Hi there Sam!\"\n",
        "s.split()"
      ],
      "metadata": {
        "colab": {
          "base_uri": "https://localhost:8080/"
        },
        "id": "IYwoBdNhtofZ",
        "outputId": "b28ded9e-b92a-4b21-dadd-3bc75e058200"
      },
      "execution_count": 2,
      "outputs": [
        {
          "output_type": "execute_result",
          "data": {
            "text/plain": [
              "['Hi', 'there', 'Sam!']"
            ]
          },
          "metadata": {},
          "execution_count": 2
        }
      ]
    },
    {
      "cell_type": "markdown",
      "source": [
        "Given the variables:**\n",
        "planet = \"Earth\" diameter = 12742\n",
        "\n",
        "** Use .format() to print the following string: **\n",
        "\n",
        "The diameter of Earth is 12742 kilometers."
      ],
      "metadata": {
        "id": "6o_O4CcatzH5"
      }
    },
    {
      "cell_type": "code",
      "source": [
        "planet = \"Earth\"\n",
        "diameter = 12742\n",
        "print(\"The diameter of {} is {} kilometers.\".format(planet,diameter))"
      ],
      "metadata": {
        "colab": {
          "base_uri": "https://localhost:8080/"
        },
        "id": "Iwl1MXj2t07L",
        "outputId": "970c8cb4-7c57-41d0-ab94-f481a9fb116a"
      },
      "execution_count": 3,
      "outputs": [
        {
          "output_type": "stream",
          "name": "stdout",
          "text": [
            "The diameter of Earth is 12742 kilometers.\n"
          ]
        }
      ]
    },
    {
      "cell_type": "markdown",
      "source": [
        "** Given this nested list, use indexing to grab the word \"hello\" **\n",
        "\n",
        "** Given this nested list, use indexing to grab the word \"hello\" **"
      ],
      "metadata": {
        "id": "vv02PSyTt74n"
      }
    },
    {
      "cell_type": "code",
      "source": [
        "lst = [1,2,[3,4],[5,[100,200,['hello']],23,11],1,7]\n",
        "lst[3][1][2][0]"
      ],
      "metadata": {
        "colab": {
          "base_uri": "https://localhost:8080/",
          "height": 35
        },
        "id": "Li3TSiP_uxA9",
        "outputId": "86072e9f-2681-4678-fc7b-b18d3924a0ca"
      },
      "execution_count": 4,
      "outputs": [
        {
          "output_type": "execute_result",
          "data": {
            "text/plain": [
              "'hello'"
            ],
            "application/vnd.google.colaboratory.intrinsic+json": {
              "type": "string"
            }
          },
          "metadata": {},
          "execution_count": 4
        }
      ]
    },
    {
      "cell_type": "markdown",
      "source": [
        "** Given this nest dictionary grab the word \"hello\". Be prepared, this will be annoying/tricky **"
      ],
      "metadata": {
        "id": "Cq-uPY1Pu7u6"
      }
    },
    {
      "cell_type": "code",
      "source": [
        "d = {'k1':[1,2,3,{'tricky':['oh','man','inception',{'target':[1,2,3,'hello']}]}]}\n",
        "d['k1'][3]['tricky'][3]['target'][3]"
      ],
      "metadata": {
        "colab": {
          "base_uri": "https://localhost:8080/",
          "height": 35
        },
        "id": "9kGZMlKwvC3M",
        "outputId": "ef1622e5-effc-4313-a217-7d06b8a9216e"
      },
      "execution_count": 5,
      "outputs": [
        {
          "output_type": "execute_result",
          "data": {
            "text/plain": [
              "'hello'"
            ],
            "application/vnd.google.colaboratory.intrinsic+json": {
              "type": "string"
            }
          },
          "metadata": {},
          "execution_count": 5
        }
      ]
    },
    {
      "cell_type": "markdown",
      "source": [
        "** What is the main difference between a tuple and a list? **\n",
        "\n",
        "Tuple is immutable Tuples operations are safe. Tuples consumes less memory.\n",
        "\n",
        "** Create a function that grabs the email website domain from a string in the form: **\n",
        "\n",
        "user@domain.com"
      ],
      "metadata": {
        "id": "t-o2ffCEwhzb"
      }
    },
    {
      "cell_type": "code",
      "source": [
        "def domainGet(email):\n",
        "    print(\"Your domain is: \" + email.split('@')[-1])\n",
        "\n",
        "email = input(\"Please enter your email: >\")\n",
        "domainGet(email)"
      ],
      "metadata": {
        "colab": {
          "base_uri": "https://localhost:8080/"
        },
        "id": "VVycss2swkHm",
        "outputId": "0bcdab7a-7958-4f2a-df99-9110c37a6eb1"
      },
      "execution_count": 6,
      "outputs": [
        {
          "output_type": "stream",
          "name": "stdout",
          "text": [
            "Please enter your email: >user@domain.com\n",
            "Your domain is: domain.com\n"
          ]
        }
      ]
    },
    {
      "cell_type": "markdown",
      "source": [
        "** Create a basic function that returns True if the word 'dog' is contained in the input string. Don't worry about edge cases like a punctuation being attached to the word dog, but do account for capitalization. **"
      ],
      "metadata": {
        "id": "NTLk5zFOxOHn"
      }
    },
    {
      "cell_type": "code",
      "source": [
        "def findDog(st):\n",
        "    return 'dog' in st.lower().split()\n",
        "findDog('Is there a dog here?')"
      ],
      "metadata": {
        "colab": {
          "base_uri": "https://localhost:8080/"
        },
        "id": "ECHdeIYyxYX6",
        "outputId": "16007edd-4598-4c42-cb91-5abea314eb0e"
      },
      "execution_count": 7,
      "outputs": [
        {
          "output_type": "execute_result",
          "data": {
            "text/plain": [
              "True"
            ]
          },
          "metadata": {},
          "execution_count": 7
        }
      ]
    },
    {
      "cell_type": "markdown",
      "source": [
        "** Create a function that counts the number of times the word \"dog\" occurs in a string. Again ignore edge cases. **"
      ],
      "metadata": {
        "id": "y6lUH_HTxhtD"
      }
    },
    {
      "cell_type": "code",
      "source": [
        "def countDog(st):\n",
        "    count = 0\n",
        "    for word in st.lower().split():\n",
        "        if word == 'dog':\n",
        "            count += 1\n",
        "    return count\n",
        "countDog('This dog runs faster than the other dog dude!')"
      ],
      "metadata": {
        "colab": {
          "base_uri": "https://localhost:8080/"
        },
        "id": "VAnoI0qYxx8_",
        "outputId": "27b667bd-dcd3-4b72-e459-500fdd89a5cf"
      },
      "execution_count": 8,
      "outputs": [
        {
          "output_type": "execute_result",
          "data": {
            "text/plain": [
              "2"
            ]
          },
          "metadata": {},
          "execution_count": 8
        }
      ]
    },
    {
      "cell_type": "markdown",
      "source": [
        "Problem You are driving a little too fast, and a police officer stops you. Write a function to return one of 3 possible results: \"No ticket\", \"Small ticket\", or \"Big Ticket\". If your speed is 60 or less, the result is \"No Ticket\". If speed is between 61 and 80 inclusive, the result is \"Small Ticket\". If speed is 81 or more, the result is \"Big Ticket\". Unless it is your birthday (encoded as a boolean value in the parameters of the function) -- on your birthday, your speed can be 5 higher in all cases."
      ],
      "metadata": {
        "id": "jUDxKWd6yVyO"
      }
    },
    {
      "cell_type": "code",
      "source": [
        "def caught_speeding(speed, is_birthday):\n",
        "    \n",
        "    if is_birthday:\n",
        "        speeding = speed - 5\n",
        "    else:\n",
        "        speeding = speed\n",
        "    \n",
        "    if speeding > 80:\n",
        "        return 'Big Ticket'\n",
        "    elif speeding > 60:\n",
        "        return 'Small Ticket'\n",
        "    else:\n",
        "        return 'No Ticket'\n",
        "caught_speeding(81,False)"
      ],
      "metadata": {
        "colab": {
          "base_uri": "https://localhost:8080/",
          "height": 35
        },
        "id": "THQ3YKFtyYJj",
        "outputId": "60b86818-44a1-451b-962c-50d8e349b6d0"
      },
      "execution_count": 9,
      "outputs": [
        {
          "output_type": "execute_result",
          "data": {
            "text/plain": [
              "'Big Ticket'"
            ],
            "application/vnd.google.colaboratory.intrinsic+json": {
              "type": "string"
            }
          },
          "metadata": {},
          "execution_count": 9
        }
      ]
    },
    {
      "cell_type": "code",
      "source": [
        "caught_speeding(70,True)"
      ],
      "metadata": {
        "colab": {
          "base_uri": "https://localhost:8080/",
          "height": 35
        },
        "id": "EPDeOu5LytfT",
        "outputId": "e9bdc1b7-7bfa-428b-97d6-a492e2150692"
      },
      "execution_count": 10,
      "outputs": [
        {
          "output_type": "execute_result",
          "data": {
            "text/plain": [
              "'Small Ticket'"
            ],
            "application/vnd.google.colaboratory.intrinsic+json": {
              "type": "string"
            }
          },
          "metadata": {},
          "execution_count": 10
        }
      ]
    },
    {
      "cell_type": "markdown",
      "source": [
        "Create an employee list with basic salary values(at least 5 values for 5 employees) and using a for loop retreive each employee salary and calculate total salary expenditure."
      ],
      "metadata": {
        "id": "hXiENGCCzEs7"
      }
    },
    {
      "cell_type": "code",
      "source": [
        "employee = [30000,23000,25000,40000,33000]\n",
        "tot = 0\n",
        "for i in employee:\n",
        "    tot = tot + i\n",
        "print(\"Total Salary :\",tot)"
      ],
      "metadata": {
        "colab": {
          "base_uri": "https://localhost:8080/"
        },
        "id": "VlRK8JzszF99",
        "outputId": "344ddefc-fe0a-4928-8475-c98110fad848"
      },
      "execution_count": 11,
      "outputs": [
        {
          "output_type": "stream",
          "name": "stdout",
          "text": [
            "Total Salary : 151000\n"
          ]
        }
      ]
    },
    {
      "cell_type": "markdown",
      "source": [
        "Create two dictionaries in Python:\n",
        "\n",
        "First one to contain fields as Empid, Empname, Basicpay\n",
        "\n",
        "Second dictionary to contain fields as DeptName, DeptId.\n",
        "\n",
        "Combine both dictionaries."
      ],
      "metadata": {
        "id": "2g7OdKmBzQ_b"
      }
    },
    {
      "cell_type": "code",
      "source": [
        "dict1 = {\n",
        "    \"EmpId\":[1000,1001,1002,1003],\n",
        "    \"EmpName\":[\"Sindhuja R.S\",\"vinothini.P\",\"Keerthi.S\",\"Shrimathi.M\"],\n",
        "    \"Basicpay\":[45000,42000,43000,44000]\n",
        "}\n",
        "\n",
        "dict2 = {\n",
        "    \"DeptName\":[\"IT\",\"CSE\",\"MECH\",\"IT\"],\n",
        "    \"DeptId\":[\"19IT\",\"19CSE\",\"19MECH\",\"19IT\"]\n",
        "}\n",
        "\n",
        "dict1.update(dict2)\n",
        "dict3 = dict1.copy()\n",
        "dict3"
      ],
      "metadata": {
        "colab": {
          "base_uri": "https://localhost:8080/"
        },
        "id": "PcPhKLQrzSmM",
        "outputId": "d34affe9-96d0-4fe6-fb57-8c215e531229"
      },
      "execution_count": 12,
      "outputs": [
        {
          "output_type": "execute_result",
          "data": {
            "text/plain": [
              "{'EmpId': [1000, 1001, 1002, 1003],\n",
              " 'EmpName': ['Sindhuja R.S', 'vinothini.P', 'Keerthi.S', 'Shrimathi.M'],\n",
              " 'Basicpay': [45000, 42000, 43000, 44000],\n",
              " 'DeptName': ['IT', 'CSE', 'MECH', 'IT'],\n",
              " 'DeptId': ['19IT', '19CSE', '19MECH', '19IT']}"
            ]
          },
          "metadata": {},
          "execution_count": 12
        }
      ]
    }
  ]
}